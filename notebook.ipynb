{
  "nbformat": 4,
  "nbformat_minor": 0,
  "metadata": {
    "colab": {
      "provenance": [],
      "mount_file_id": "1czac0eI8Q6Bs14Jt9WKfhSyXQcIKkB6t",
      "authorship_tag": "ABX9TyNcujXR4j9kwbpvGrwaEA57",
      "include_colab_link": true
    },
    "kernelspec": {
      "name": "python3",
      "display_name": "Python 3"
    },
    "language_info": {
      "name": "python"
    }
  },
  "cells": [
    {
      "cell_type": "markdown",
      "metadata": {
        "id": "view-in-github",
        "colab_type": "text"
      },
      "source": [
        "<a href=\"https://colab.research.google.com/github/johnlocke333/xray_image_classification/blob/main/notebook.ipynb\" target=\"_parent\"><img src=\"https://colab.research.google.com/assets/colab-badge.svg\" alt=\"Open In Colab\"/></a>"
      ]
    },
    {
      "cell_type": "markdown",
      "source": [
        "# **Data Preparation**\n"
      ],
      "metadata": {
        "id": "Yb8cQU-FhHEc"
      }
    },
    {
      "cell_type": "code",
      "execution_count": 6,
      "metadata": {
        "id": "eWwl6fgMSAav"
      },
      "outputs": [],
      "source": [
        "from tensorflow.keras.preprocessing.image import ImageDataGenerator\n",
        "from tensorflow.keras.utils import array_to_img, img_to_array, load_img\n",
        "import numpy as np\n",
        "import os"
      ]
    },
    {
      "cell_type": "code",
      "source": [
        "from google.colab import drive\n",
        "drive.mount('/content/drive')"
      ],
      "metadata": {
        "colab": {
          "base_uri": "https://localhost:8080/"
        },
        "id": "UmCuUfqRTF_b",
        "outputId": "7a7390e1-012b-4880-9463-40748815cea3"
      },
      "execution_count": 25,
      "outputs": [
        {
          "output_type": "stream",
          "name": "stdout",
          "text": [
            "Drive already mounted at /content/drive; to attempt to forcibly remount, call drive.mount(\"/content/drive\", force_remount=True).\n"
          ]
        }
      ]
    },
    {
      "cell_type": "code",
      "source": [
        "!unzip -uq \"/content/drive/My Drive/xray.zip\" -d \"/content/drive/My Drive/xray\""
      ],
      "metadata": {
        "id": "-mNj-aOOZVcW"
      },
      "execution_count": 3,
      "outputs": []
    },
    {
      "cell_type": "code",
      "source": [
        "# Directory path\n",
        "train_data_dir = '/content/drive/MyDrive/xray/chest_xray/chest_xray/train'\n",
        "test_data_dir = '/content/drive/MyDrive/xray/chest_xray/chest_xray/test'\n",
        "valid_data_dir = '/content/drive/MyDrive/xray/chest_xray/chest_xray/val'\n"
      ],
      "metadata": {
        "id": "4-6lY-z5W-IX"
      },
      "execution_count": 12,
      "outputs": []
    },
    {
      "cell_type": "code",
      "source": [
        "def get_reshape_images(dir, bs):\n",
        "# Get all the data in the directory data/validation (5216 images), and reshape them\n",
        "  generator = ImageDataGenerator().flow_from_directory(\n",
        "          dir, target_size=(64, 64), batch_size=bs)\n",
        "\n",
        "# Create the datasets\n",
        "  images, labels = next(generator)\n",
        "  return images, labels"
      ],
      "metadata": {
        "id": "vcrw_v1CQg6R"
      },
      "execution_count": 8,
      "outputs": []
    },
    {
      "cell_type": "code",
      "source": [
        "train_images, train_labels = get_reshape_images(train_data_dir, 5216)"
      ],
      "metadata": {
        "colab": {
          "base_uri": "https://localhost:8080/"
        },
        "id": "Cu-4EVYkQhQw",
        "outputId": "44c0b7c2-1426-4f3e-ee2a-e52b33093b7e"
      },
      "execution_count": 9,
      "outputs": [
        {
          "output_type": "stream",
          "name": "stdout",
          "text": [
            "Found 5216 images belonging to 2 classes.\n"
          ]
        }
      ]
    },
    {
      "cell_type": "code",
      "source": [
        "test_images, test_labels = get_reshape_images(test_data_dir, 624)"
      ],
      "metadata": {
        "colab": {
          "base_uri": "https://localhost:8080/"
        },
        "id": "Nw9NZSS7Qhz_",
        "outputId": "9f30667d-01c7-4259-e677-80b8857eb33f"
      },
      "execution_count": 15,
      "outputs": [
        {
          "output_type": "stream",
          "name": "stdout",
          "text": [
            "Found 624 images belonging to 2 classes.\n"
          ]
        }
      ]
    },
    {
      "cell_type": "code",
      "source": [
        "valid_images, valid_labels = get_reshape_images(valid_data_dir, 16)"
      ],
      "metadata": {
        "colab": {
          "base_uri": "https://localhost:8080/"
        },
        "id": "J-qQcSEJQiDM",
        "outputId": "14636fc2-a35f-45d3-cb49-61abd73d74d5"
      },
      "execution_count": 14,
      "outputs": [
        {
          "output_type": "stream",
          "name": "stdout",
          "text": [
            "Found 16 images belonging to 2 classes.\n"
          ]
        }
      ]
    },
    {
      "cell_type": "code",
      "source": [
        "array_to_img(train_images[10])"
      ],
      "metadata": {
        "colab": {
          "base_uri": "https://localhost:8080/",
          "height": 81
        },
        "id": "-AM090GHQiTD",
        "outputId": "bc3f87c6-1357-4270-c613-51a20ca3c3d1"
      },
      "execution_count": 16,
      "outputs": [
        {
          "output_type": "execute_result",
          "data": {
            "text/plain": [
              "<PIL.Image.Image image mode=RGB size=64x64>"
            ],
            "image/png": "[encoded data removed]",
            "image/jpeg": "[encoded data removed]"
          },
          "metadata": {},
          "execution_count": 16
        }
      ]
    },
    {
      "cell_type": "code",
      "source": [
        "array_to_img(test_images[10])"
      ],
      "metadata": {
        "colab": {
          "base_uri": "https://localhost:8080/",
          "height": 81
        },
        "id": "iJdP1ssSQiml",
        "outputId": "45621da2-60d9-4e83-bcec-0c9efcba05bc"
      },
      "execution_count": 17,
      "outputs": [
        {
          "output_type": "execute_result",
          "data": {
            "text/plain": [
              "<PIL.Image.Image image mode=RGB size=64x64>"
            ],
            "image/png": "[encoded data removed]",
            "image/jpeg": "[encoded data removed]"
          },
          "metadata": {},
          "execution_count": 17
        }
      ]
    },
    {
      "cell_type": "code",
      "source": [
        "array_to_img(valid_images[3])"
      ],
      "metadata": {
        "colab": {
          "base_uri": "https://localhost:8080/",
          "height": 81
        },
        "id": "GQYA9H9djH93",
        "outputId": "884b5f1e-7592-48e6-b69b-29144e6cfc77"
      },
      "execution_count": 18,
      "outputs": [
        {
          "output_type": "execute_result",
          "data": {
            "text/plain": [
              "<PIL.Image.Image image mode=RGB size=64x64>"
            ],
            "image/png": "[encoded data removed]",
            "image/jpeg": "[encoded data removed]"
          },
          "metadata": {},
          "execution_count": 18
        }
      ]
    },
    {
      "cell_type": "code",
      "source": [
        " def reshape_input_image_label(images, m, labels):\n",
        "  img_unrow = images.reshape(m, -1).T\n",
        "  labels_final = labels.T[[1]]\n",
        "  return img_unrow, labels_final"
      ],
      "metadata": {
        "id": "L_T7JZsyj6QA"
      },
      "execution_count": 26,
      "outputs": []
    },
    {
      "cell_type": "code",
      "source": [
        "train_img_unrow, train_label_final = reshape_input_image_label(train_images, 5216, train_labels)"
      ],
      "metadata": {
        "id": "xFhMJ7oij6rw"
      },
      "execution_count": 27,
      "outputs": []
    },
    {
      "cell_type": "code",
      "source": [
        "test_img_unrow, test_label_final = reshape_input_image_label(test_images, 624, test_labels)"
      ],
      "metadata": {
        "id": "jlHSI1xOj6-Y"
      },
      "execution_count": 28,
      "outputs": []
    },
    {
      "cell_type": "code",
      "source": [
        "valid_img_unrow, valid_label_final = reshape_input_image_label(valid_images, 16, valid_labels)"
      ],
      "metadata": {
        "id": "FlWg7HXqj7XD"
      },
      "execution_count": 29,
      "outputs": []
    },
    {
      "cell_type": "code",
      "source": [
        "np.shape(train_img_unrow)"
      ],
      "metadata": {
        "colab": {
          "base_uri": "https://localhost:8080/"
        },
        "id": "NV821NoAlLY1",
        "outputId": "8225947e-88f7-468c-a1a9-777aa00cc18a"
      },
      "execution_count": 30,
      "outputs": [
        {
          "output_type": "execute_result",
          "data": {
            "text/plain": [
              "(12288, 5216)"
            ]
          },
          "metadata": {},
          "execution_count": 30
        }
      ]
    },
    {
      "cell_type": "code",
      "source": [
        "np.shape(test_img_unrow)"
      ],
      "metadata": {
        "colab": {
          "base_uri": "https://localhost:8080/"
        },
        "id": "PH8uyOOnlNba",
        "outputId": "7149d77d-c7bd-4146-eef9-7f2f3bcf423f"
      },
      "execution_count": 31,
      "outputs": [
        {
          "output_type": "execute_result",
          "data": {
            "text/plain": [
              "(12288, 624)"
            ]
          },
          "metadata": {},
          "execution_count": 31
        }
      ]
    },
    {
      "cell_type": "code",
      "source": [
        "np.shape(valid_img_unrow)"
      ],
      "metadata": {
        "colab": {
          "base_uri": "https://localhost:8080/"
        },
        "id": "ex6ezenolNtt",
        "outputId": "12d1655e-1073-41b3-c948-eb4142e381c4"
      },
      "execution_count": 32,
      "outputs": [
        {
          "output_type": "execute_result",
          "data": {
            "text/plain": [
              "(12288, 16)"
            ]
          },
          "metadata": {},
          "execution_count": 32
        }
      ]
    },
    {
      "cell_type": "code",
      "source": [
        "np.shape(train_label_final)"
      ],
      "metadata": {
        "colab": {
          "base_uri": "https://localhost:8080/"
        },
        "id": "I9h6mMkilcId",
        "outputId": "0d9f7437-f341-4a6d-dd54-b08d73e720c1"
      },
      "execution_count": 34,
      "outputs": [
        {
          "output_type": "execute_result",
          "data": {
            "text/plain": [
              "(1, 5216)"
            ]
          },
          "metadata": {},
          "execution_count": 34
        }
      ]
    },
    {
      "cell_type": "code",
      "source": [
        "np.shape(test_label_final)"
      ],
      "metadata": {
        "colab": {
          "base_uri": "https://localhost:8080/"
        },
        "id": "KDaF-l9hmenD",
        "outputId": "0667633d-14f2-4013-ca47-a6dd87948397"
      },
      "execution_count": 35,
      "outputs": [
        {
          "output_type": "execute_result",
          "data": {
            "text/plain": [
              "(1, 624)"
            ]
          },
          "metadata": {},
          "execution_count": 35
        }
      ]
    },
    {
      "cell_type": "code",
      "source": [
        "np.shape(valid_label_final)"
      ],
      "metadata": {
        "colab": {
          "base_uri": "https://localhost:8080/"
        },
        "id": "D7fYlWBYme9T",
        "outputId": "b84a5d54-d0f9-42c3-a43e-9a25539dea58"
      },
      "execution_count": 36,
      "outputs": [
        {
          "output_type": "execute_result",
          "data": {
            "text/plain": [
              "(1, 16)"
            ]
          },
          "metadata": {},
          "execution_count": 36
        }
      ]
    },
    {
      "cell_type": "code",
      "source": [
        "array_to_img(train_images[240])"
      ],
      "metadata": {
        "colab": {
          "base_uri": "https://localhost:8080/",
          "height": 81
        },
        "id": "siEzTPWsmvh_",
        "outputId": "a7182596-c96a-48a8-a3b7-afa3876f3338"
      },
      "execution_count": 37,
      "outputs": [
        {
          "output_type": "execute_result",
          "data": {
            "text/plain": [
              "<PIL.Image.Image image mode=RGB size=64x64>"
            ],
            "image/png": "[encoded data removed]",
            "image/jpeg": "[encoded data removed]"
          },
          "metadata": {},
          "execution_count": 37
        }
      ]
    },
    {
      "cell_type": "code",
      "source": [
        "train_label_final[:,240]"
      ],
      "metadata": {
        "colab": {
          "base_uri": "https://localhost:8080/"
        },
        "id": "2-tg5cDqm0I7",
        "outputId": "e4ebd59a-36d2-47bb-9c2f-8c60774da679"
      },
      "execution_count": 39,
      "outputs": [
        {
          "output_type": "execute_result",
          "data": {
            "text/plain": [
              "array([1.], dtype=float32)"
            ]
          },
          "metadata": {},
          "execution_count": 39
        }
      ]
    },
    {
      "cell_type": "code",
      "source": [
        "def standardize(img_unrow):\n",
        "  img_final = img_unrow/255\n",
        "  return img_final"
      ],
      "metadata": {
        "id": "aMgwVlQOnB5S"
      },
      "execution_count": 41,
      "outputs": []
    },
    {
      "cell_type": "code",
      "source": [
        "train_img_final = standardize(train_img_unrow)"
      ],
      "metadata": {
        "id": "_reQXoWLnPh0"
      },
      "execution_count": 42,
      "outputs": []
    },
    {
      "cell_type": "code",
      "source": [
        "test_img_final= standardize(test_img_unrow)"
      ],
      "metadata": {
        "id": "_xzCYJ1jnP1o"
      },
      "execution_count": 43,
      "outputs": []
    },
    {
      "cell_type": "code",
      "source": [
        "valid_img_final = standardize(valid_img_unrow)"
      ],
      "metadata": {
        "id": "TAT30hK6nQK5"
      },
      "execution_count": 44,
      "outputs": []
    },
    {
      "cell_type": "code",
      "source": [],
      "metadata": {
        "id": "74wwqzsonvcq"
      },
      "execution_count": null,
      "outputs": []
    },
    {
      "cell_type": "code",
      "source": [],
      "metadata": {
        "id": "a-2FHXTRnvrn"
      },
      "execution_count": null,
      "outputs": []
    },
    {
      "cell_type": "code",
      "source": [],
      "metadata": {
        "id": "ZUquINNTnv7W"
      },
      "execution_count": null,
      "outputs": []
    }
  ]
}