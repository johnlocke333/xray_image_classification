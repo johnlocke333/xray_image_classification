{
  "nbformat": 4,
  "nbformat_minor": 0,
  "metadata": {
    "colab": {
      "provenance": [],
      "mount_file_id": "1czac0eI8Q6Bs14Jt9WKfhSyXQcIKkB6t",
      "authorship_tag": "ABX9TyOFFHLIY9oXFCsRb5EZcVZo",
      "include_colab_link": true
    },
    "kernelspec": {
      "name": "python3",
      "display_name": "Python 3"
    },
    "language_info": {
      "name": "python"
    }
  },
  "cells": [
    {
      "cell_type": "markdown",
      "metadata": {
        "id": "view-in-github",
        "colab_type": "text"
      },
      "source": [
        "<a href=\"https://colab.research.google.com/github/johnlocke333/xray_image_classification/blob/main/notebook.ipynb\" target=\"_parent\"><img src=\"https://colab.research.google.com/assets/colab-badge.svg\" alt=\"Open In Colab\"/></a>"
      ]
    },
    {
      "cell_type": "code",
      "execution_count": 2,
      "metadata": {
        "id": "eWwl6fgMSAav"
      },
      "outputs": [],
      "source": [
        "from tensorflow.keras.preprocessing.image import ImageDataGenerator\n",
        "from tensorflow.keras.utils import array_to_img, img_to_array, load_img\n",
        "import numpy as np\n",
        "import os"
      ]
    },
    {
      "cell_type": "code",
      "source": [
        "from google.colab import drive\n",
        "drive.mount('/content/drive')"
      ],
      "metadata": {
        "colab": {
          "base_uri": "https://localhost:8080/"
        },
        "id": "UmCuUfqRTF_b",
        "outputId": "114bce95-5d97-48ca-81fb-b6eb9969e230"
      },
      "execution_count": 9,
      "outputs": [
        {
          "output_type": "stream",
          "name": "stdout",
          "text": [
            "Drive already mounted at /content/drive; to attempt to forcibly remount, call drive.mount(\"/content/drive\", force_remount=True).\n"
          ]
        }
      ]
    },
    {
      "cell_type": "code",
      "source": [
        "!unzip -uq \"/content/drive/My Drive/xray.zip\" -d \"/content/drive/My Drive/xray\""
      ],
      "metadata": {
        "id": "-mNj-aOOZVcW"
      },
      "execution_count": 14,
      "outputs": []
    },
    {
      "cell_type": "code",
      "source": [
        "train_data_dir = 'drive/My Drive/xray/chest_xray/train'\n",
        "\n",
        "# Get all the data in the directory data/train, and reshape them\n",
        "train_generator = ImageDataGenerator().flow_from_directory(\n",
        "        train_data_dir,\n",
        "        target_size=(64, 64), batch_size=5216)\n",
        "\n",
        "# Create the datasets\n",
        "train_images, train_labels = next(train_generator)"
      ],
      "metadata": {
        "colab": {
          "base_uri": "https://localhost:8080/"
        },
        "id": "BftDFZdVY8uf",
        "outputId": "004a924d-453a-4470-ea2b-de9ad936035b"
      },
      "execution_count": 19,
      "outputs": [
        {
          "output_type": "stream",
          "name": "stdout",
          "text": [
            "Found 5216 images belonging to 2 classes.\n"
          ]
        }
      ]
    },
    {
      "cell_type": "code",
      "source": [
        "array_to_img(train_images[10])"
      ],
      "metadata": {
        "colab": {
          "base_uri": "https://localhost:8080/",
          "height": 81
        },
        "id": "uIOZmkcldImP",
        "outputId": "fb998c60-f82b-4845-8cfb-a9be4c13a0e2"
      },
      "execution_count": 20,
      "outputs": [
        {
          "output_type": "execute_result",
          "data": {
            "text/plain": [
              "<PIL.Image.Image image mode=RGB size=64x64>"
            ],
            "image/png": "[encoded data removed]",
            "image/jpeg": "[encoded data removed]"
          },
          "metadata": {},
          "execution_count": 20
        }
      ]
    },
    {
      "cell_type": "code",
      "source": [
        "array_to_img(train_images[130])"
      ],
      "metadata": {
        "colab": {
          "base_uri": "https://localhost:8080/",
          "height": 81
        },
        "id": "E_U-hC7jdKMJ",
        "outputId": "d93a5aeb-3008-46c1-8946-7c56976c8a43"
      },
      "execution_count": 21,
      "outputs": [
        {
          "output_type": "execute_result",
          "data": {
            "text/plain": [
              "<PIL.Image.Image image mode=RGB size=64x64>"
            ],
            "image/png": "[encoded data removed]",
            "image/jpeg": "[encoded data removed]"
          },
          "metadata": {},
          "execution_count": 21
        }
      ]
    },
    {
      "cell_type": "code",
      "source": [
        "print(np.shape(train_images))\n",
        "print(np.shape(train_labels))"
      ],
      "metadata": {
        "colab": {
          "base_uri": "https://localhost:8080/"
        },
        "id": "tts-JJQJf-Q9",
        "outputId": "3d77fbda-51f6-420b-cac3-d984d4011bee"
      },
      "execution_count": 22,
      "outputs": [
        {
          "output_type": "stream",
          "name": "stdout",
          "text": [
            "(5216, 64, 64, 3)\n",
            "(5216, 2)\n"
          ]
        }
      ]
    },
    {
      "cell_type": "markdown",
      "source": [
        "# **Business Understanding**"
      ],
      "metadata": {
        "id": "K_IsZ053SDYq"
      }
    },
    {
      "cell_type": "markdown",
      "source": [
        "# **Data Understanding**"
      ],
      "metadata": {
        "id": "3L9NPk34SDwo"
      }
    },
    {
      "cell_type": "markdown",
      "source": [
        "# **Data Preparation**"
      ],
      "metadata": {
        "id": "Ho-dhCblSEIT"
      }
    },
    {
      "cell_type": "markdown",
      "source": [
        "# **Model**"
      ],
      "metadata": {
        "id": "ZlR3cXwwSEbn"
      }
    },
    {
      "cell_type": "markdown",
      "source": [
        "# **Evaluation**"
      ],
      "metadata": {
        "id": "6nJKRcarSEwp"
      }
    },
    {
      "cell_type": "markdown",
      "source": [
        "# **Conclusion**"
      ],
      "metadata": {
        "id": "_p32Q2LnSFFn"
      }
    },
    {
      "cell_type": "markdown",
      "source": [
        "# **Recommendations**"
      ],
      "metadata": {
        "id": "6qp8ykabSFZ9"
      }
    },
    {
      "cell_type": "markdown",
      "source": [
        "# **Next Steps**"
      ],
      "metadata": {
        "id": "rSRw_1wmSFxy"
      }
    }
  ]
}