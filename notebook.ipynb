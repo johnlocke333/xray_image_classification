{
  "nbformat": 4,
  "nbformat_minor": 0,
  "metadata": {
    "colab": {
      "provenance": [],
      "mount_file_id": "1czac0eI8Q6Bs14Jt9WKfhSyXQcIKkB6t",
      "authorship_tag": "ABX9TyOdUYSSUd7N0fbOMGzECLCK",
      "include_colab_link": true
    },
    "kernelspec": {
      "name": "python3",
      "display_name": "Python 3"
    },
    "language_info": {
      "name": "python"
    }
  },
  "cells": [
    {
      "cell_type": "markdown",
      "metadata": {
        "id": "view-in-github",
        "colab_type": "text"
      },
      "source": [
        "<a href=\"https://colab.research.google.com/github/johnlocke333/xray_image_classification/blob/main/notebook.ipynb\" target=\"_parent\"><img src=\"https://colab.research.google.com/assets/colab-badge.svg\" alt=\"Open In Colab\"/></a>"
      ]
    },
    {
      "cell_type": "markdown",
      "source": [
        "# **Data Preparation**\n"
      ],
      "metadata": {
        "id": "Yb8cQU-FhHEc"
      }
    },
    {
      "cell_type": "code",
      "execution_count": 1,
      "metadata": {
        "id": "eWwl6fgMSAav"
      },
      "outputs": [],
      "source": [
        "from tensorflow.keras.preprocessing.image import ImageDataGenerator\n",
        "from tensorflow.keras.utils import array_to_img, img_to_array, load_img\n",
        "import numpy as np\n",
        "import os"
      ]
    },
    {
      "cell_type": "code",
      "source": [
        "from google.colab import drive\n",
        "drive.mount('/content/drive')"
      ],
      "metadata": {
        "colab": {
          "base_uri": "https://localhost:8080/"
        },
        "id": "UmCuUfqRTF_b",
        "outputId": "d4f29c98-bbb9-46d3-dfe6-83c4fa75cc62"
      },
      "execution_count": 2,
      "outputs": [
        {
          "output_type": "stream",
          "name": "stdout",
          "text": [
            "Drive already mounted at /content/drive; to attempt to forcibly remount, call drive.mount(\"/content/drive\", force_remount=True).\n"
          ]
        }
      ]
    },
    {
      "cell_type": "code",
      "source": [
        "!unzip -uq \"/content/drive/My Drive/xray.zip\" -d \"/content/drive/My Drive/xray\""
      ],
      "metadata": {
        "id": "-mNj-aOOZVcW"
      },
      "execution_count": 3,
      "outputs": []
    },
    {
      "cell_type": "code",
      "source": [
        "# Directory path\n",
        "train_data_dir = '/content/drive/MyDrive/xray/chest_xray/chest_xray/train'\n",
        "test_data_dir = '/content/drive/MyDrive/xray/chest_xray/chest_xray/test'\n",
        "valid_data_dir = '/content/drive/MyDrive/xray/chest_xray/chest_xray/val'\n"
      ],
      "metadata": {
        "id": "4-6lY-z5W-IX"
      },
      "execution_count": 3,
      "outputs": []
    },
    {
      "cell_type": "code",
      "source": [
        "def get_reshape_images(dir, bs):\n",
        "# Get all the data in the directory data/validation (5216 images), and reshape them\n",
        "  generator = ImageDataGenerator().flow_from_directory(\n",
        "          dir, target_size=(64, 64), batch_size=bs)\n",
        "\n",
        "# Create the datasets\n",
        "  images, labels = next(generator)\n",
        "  return images, labels"
      ],
      "metadata": {
        "id": "vcrw_v1CQg6R"
      },
      "execution_count": 4,
      "outputs": []
    },
    {
      "cell_type": "code",
      "source": [
        "train_images, train_labels = get_reshape_images(train_data_dir, 5216)"
      ],
      "metadata": {
        "colab": {
          "base_uri": "https://localhost:8080/"
        },
        "id": "Cu-4EVYkQhQw",
        "outputId": "583767fb-3cd9-4e00-ae5a-50373759354c"
      },
      "execution_count": 5,
      "outputs": [
        {
          "output_type": "stream",
          "name": "stdout",
          "text": [
            "Found 5216 images belonging to 2 classes.\n"
          ]
        }
      ]
    },
    {
      "cell_type": "code",
      "source": [
        "test_images, test_labels = get_reshape_images(test_data_dir, 624)"
      ],
      "metadata": {
        "colab": {
          "base_uri": "https://localhost:8080/"
        },
        "id": "Nw9NZSS7Qhz_",
        "outputId": "651fc195-36e1-4963-996a-502902cea26f"
      },
      "execution_count": 6,
      "outputs": [
        {
          "output_type": "stream",
          "name": "stdout",
          "text": [
            "Found 624 images belonging to 2 classes.\n"
          ]
        }
      ]
    },
    {
      "cell_type": "code",
      "source": [
        "valid_images, valid_labels = get_reshape_images(valid_data_dir, 16)"
      ],
      "metadata": {
        "colab": {
          "base_uri": "https://localhost:8080/"
        },
        "id": "J-qQcSEJQiDM",
        "outputId": "32f92b79-c749-40ad-feac-2c18f2c1760f"
      },
      "execution_count": 7,
      "outputs": [
        {
          "output_type": "stream",
          "name": "stdout",
          "text": [
            "Found 16 images belonging to 2 classes.\n"
          ]
        }
      ]
    },
    {
      "cell_type": "code",
      "source": [
        " def reshape_input_image_label(images, m, labels):\n",
        "  img_unrow = images.reshape(m, -1)\n",
        "  labels_final = labels.T[[1]]\n",
        "  return img_unrow, labels_final"
      ],
      "metadata": {
        "id": "L_T7JZsyj6QA"
      },
      "execution_count": 51,
      "outputs": []
    },
    {
      "cell_type": "code",
      "source": [],
      "metadata": {
        "id": "T44UNtTL4Tka"
      },
      "execution_count": null,
      "outputs": []
    },
    {
      "cell_type": "code",
      "source": [
        "train_img_unrow, train_label_final = reshape_input_image_label(train_images, 5216, train_labels)"
      ],
      "metadata": {
        "id": "xFhMJ7oij6rw"
      },
      "execution_count": 52,
      "outputs": []
    },
    {
      "cell_type": "code",
      "source": [
        "test_img_unrow, test_label_final = reshape_input_image_label(test_images, 624, test_labels)"
      ],
      "metadata": {
        "id": "jlHSI1xOj6-Y"
      },
      "execution_count": 54,
      "outputs": []
    },
    {
      "cell_type": "code",
      "source": [
        "valid_img_unrow, valid_label_final = reshape_input_image_label(valid_images, 16, valid_labels)"
      ],
      "metadata": {
        "id": "FlWg7HXqj7XD"
      },
      "execution_count": 55,
      "outputs": []
    },
    {
      "cell_type": "code",
      "source": [
        "np.shape(train_img_unrow)"
      ],
      "metadata": {
        "colab": {
          "base_uri": "https://localhost:8080/"
        },
        "id": "NV821NoAlLY1",
        "outputId": "622fc691-653c-4c1c-9531-e6c0f55dc174"
      },
      "execution_count": 56,
      "outputs": [
        {
          "output_type": "execute_result",
          "data": {
            "text/plain": [
              "(5216, 12288)"
            ]
          },
          "metadata": {},
          "execution_count": 56
        }
      ]
    },
    {
      "cell_type": "code",
      "source": [
        "np.shape(test_img_unrow)"
      ],
      "metadata": {
        "colab": {
          "base_uri": "https://localhost:8080/"
        },
        "id": "PH8uyOOnlNba",
        "outputId": "a22fd031-712c-4582-b66d-82aaca91d2cf"
      },
      "execution_count": 57,
      "outputs": [
        {
          "output_type": "execute_result",
          "data": {
            "text/plain": [
              "(624, 12288)"
            ]
          },
          "metadata": {},
          "execution_count": 57
        }
      ]
    },
    {
      "cell_type": "code",
      "source": [
        "np.shape(valid_img_unrow)"
      ],
      "metadata": {
        "colab": {
          "base_uri": "https://localhost:8080/"
        },
        "id": "ex6ezenolNtt",
        "outputId": "4fed63cf-921a-4068-875b-82c9a3387784"
      },
      "execution_count": 58,
      "outputs": [
        {
          "output_type": "execute_result",
          "data": {
            "text/plain": [
              "(16, 12288)"
            ]
          },
          "metadata": {},
          "execution_count": 58
        }
      ]
    },
    {
      "cell_type": "code",
      "source": [
        "np.shape(train_label_final)"
      ],
      "metadata": {
        "colab": {
          "base_uri": "https://localhost:8080/"
        },
        "id": "GSWkReS5_ym6",
        "outputId": "a54651ed-2514-4fe3-cad0-e7eddd89389d"
      },
      "execution_count": 59,
      "outputs": [
        {
          "output_type": "execute_result",
          "data": {
            "text/plain": [
              "(1, 5216)"
            ]
          },
          "metadata": {},
          "execution_count": 59
        }
      ]
    },
    {
      "cell_type": "code",
      "source": [
        "np.shape(test_label_final)"
      ],
      "metadata": {
        "colab": {
          "base_uri": "https://localhost:8080/"
        },
        "id": "AXEP572G_y-Q",
        "outputId": "a6c937a3-102b-4a88-ab4b-fa26a2434149"
      },
      "execution_count": 60,
      "outputs": [
        {
          "output_type": "execute_result",
          "data": {
            "text/plain": [
              "(1, 624)"
            ]
          },
          "metadata": {},
          "execution_count": 60
        }
      ]
    },
    {
      "cell_type": "code",
      "source": [
        "np.shape(valid_label_final)"
      ],
      "metadata": {
        "colab": {
          "base_uri": "https://localhost:8080/"
        },
        "id": "XSC2v9Ol_zP2",
        "outputId": "093fa163-f278-4948-cad8-ffafc4775a9a"
      },
      "execution_count": 61,
      "outputs": [
        {
          "output_type": "execute_result",
          "data": {
            "text/plain": [
              "(1, 16)"
            ]
          },
          "metadata": {},
          "execution_count": 61
        }
      ]
    },
    {
      "cell_type": "code",
      "source": [
        "def standardize(img_unrow):\n",
        "  img_final = img_unrow/255\n",
        "  return img_final"
      ],
      "metadata": {
        "id": "aMgwVlQOnB5S"
      },
      "execution_count": 64,
      "outputs": []
    },
    {
      "cell_type": "code",
      "source": [
        "train_img_final = standardize(train_img_unrow)"
      ],
      "metadata": {
        "id": "_reQXoWLnPh0"
      },
      "execution_count": 65,
      "outputs": []
    },
    {
      "cell_type": "code",
      "source": [
        "test_img_final= standardize(test_img_unrow)"
      ],
      "metadata": {
        "id": "_xzCYJ1jnP1o"
      },
      "execution_count": 66,
      "outputs": []
    },
    {
      "cell_type": "code",
      "source": [
        "valid_img_final = standardize(valid_img_unrow)"
      ],
      "metadata": {
        "id": "TAT30hK6nQK5"
      },
      "execution_count": 67,
      "outputs": []
    },
    {
      "cell_type": "markdown",
      "source": [
        "# **Model**"
      ],
      "metadata": {
        "id": "JBPG5GcPqbX3"
      }
    },
    {
      "cell_type": "code",
      "source": [
        "from keras import models\n",
        "from keras import layers"
      ],
      "metadata": {
        "id": "-gwMgZj2qfWj"
      },
      "execution_count": 68,
      "outputs": []
    },
    {
      "cell_type": "code",
      "source": [
        "baseline_model = models.Sequential()\n",
        "baseline_model.add(layers.Dense(2, activation='relu', input_shape=(12288,)))\n",
        "baseline_model.add(layers.Dense(1, activation='sigmoid'))\n",
        "baseline_model.compile(optimizer='SGD',\n",
        "                       loss='binary_crossentropy',\n",
        "                       metrics=['recall'])\n",
        "baseline_model_val = baseline_model.fit(train_img_final,\n",
        "                                        train_label_final.T,\n",
        "                                        epochs=6,\n",
        "                                        batch_size=3,\n",
        "                                        validation_data=(test_img_final, test_label_final.T))"
      ],
      "metadata": {
        "colab": {
          "base_uri": "https://localhost:8080/"
        },
        "id": "4vW64eu1qflA",
        "outputId": "3994fa9f-29d1-45d2-fbca-73e0e7f06219"
      },
      "execution_count": 72,
      "outputs": [
        {
          "output_type": "stream",
          "name": "stderr",
          "text": [
            "/usr/local/lib/python3.10/dist-packages/keras/src/layers/core/dense.py:87: UserWarning: Do not pass an `input_shape`/`input_dim` argument to a layer. When using Sequential models, prefer using an `Input(shape)` object as the first layer in the model instead.\n",
            "  super().__init__(activity_regularizer=activity_regularizer, **kwargs)\n"
          ]
        },
        {
          "output_type": "stream",
          "name": "stdout",
          "text": [
            "Epoch 1/6\n",
            "\u001b[1m1739/1739\u001b[0m \u001b[32m━━━━━━━━━━━━━━━━━━━━\u001b[0m\u001b[37m\u001b[0m \u001b[1m10s\u001b[0m 4ms/step - loss: 0.6096 - recall: 0.9958 - val_loss: 0.6906 - val_recall: 1.0000\n",
            "Epoch 2/6\n",
            "\u001b[1m1739/1739\u001b[0m \u001b[32m━━━━━━━━━━━━━━━━━━━━\u001b[0m\u001b[37m\u001b[0m \u001b[1m7s\u001b[0m 3ms/step - loss: 0.5708 - recall: 0.9994 - val_loss: 0.6964 - val_recall: 1.0000\n",
            "Epoch 3/6\n",
            "\u001b[1m1739/1739\u001b[0m \u001b[32m━━━━━━━━━━━━━━━━━━━━\u001b[0m\u001b[37m\u001b[0m \u001b[1m4s\u001b[0m 2ms/step - loss: 0.5712 - recall: 1.0000 - val_loss: 0.7029 - val_recall: 1.0000\n",
            "Epoch 4/6\n",
            "\u001b[1m1739/1739\u001b[0m \u001b[32m━━━━━━━━━━━━━━━━━━━━\u001b[0m\u001b[37m\u001b[0m \u001b[1m4s\u001b[0m 2ms/step - loss: 0.5661 - recall: 1.0000 - val_loss: 0.6936 - val_recall: 1.0000\n",
            "Epoch 5/6\n",
            "\u001b[1m1739/1739\u001b[0m \u001b[32m━━━━━━━━━━━━━━━━━━━━\u001b[0m\u001b[37m\u001b[0m \u001b[1m8s\u001b[0m 4ms/step - loss: 0.5761 - recall: 1.0000 - val_loss: 0.6962 - val_recall: 1.0000\n",
            "Epoch 6/6\n",
            "\u001b[1m1739/1739\u001b[0m \u001b[32m━━━━━━━━━━━━━━━━━━━━\u001b[0m\u001b[37m\u001b[0m \u001b[1m7s\u001b[0m 2ms/step - loss: 0.5743 - recall: 1.0000 - val_loss: 0.6990 - val_recall: 1.0000\n"
          ]
        }
      ]
    },
    {
      "cell_type": "code",
      "source": [],
      "metadata": {
        "id": "9-S9WOKXqf18"
      },
      "execution_count": null,
      "outputs": []
    }
  ]
}